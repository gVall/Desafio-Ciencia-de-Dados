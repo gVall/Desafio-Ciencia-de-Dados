{
 "cells": [
  {
   "cell_type": "code",
   "execution_count": 1,
   "id": "initial_id",
   "metadata": {
    "collapsed": true,
    "ExecuteTime": {
     "end_time": "2023-10-18T22:03:28.356494100Z",
     "start_time": "2023-10-18T22:03:25.229153Z"
    }
   },
   "outputs": [],
   "source": [
    "import keras\n",
    "import time\n",
    "import datetime\n",
    "import pandas as pd\n",
    "from sklearn.preprocessing import LabelEncoder\n",
    "from sklearn.model_selection import train_test_split\n",
    "from sklearn.preprocessing import StandardScaler\n",
    "from sklearn.preprocessing import MinMaxScaler\n",
    "import tensorflow as tf\n",
    "import numpy as np\n",
    "import matplotlib.pyplot as plt\n",
    "\n",
    "pd.set_option('display.max_columns', 20)\n",
    "pd.set_option('display.max_rows', 20)"
   ]
  },
  {
   "cell_type": "code",
   "execution_count": 2,
   "outputs": [
    {
     "name": "stderr",
     "output_type": "stream",
     "text": [
      "C:\\Users\\first\\AppData\\Local\\Temp\\ipykernel_27048\\420986748.py:2: DtypeWarning: Columns (1,17,19,20,28,33,34,54,62,63,66,68,69,88) have mixed types. Specify dtype option on import or set low_memory=False.\n",
      "  data = pd.read_csv('total_data.csv')\n"
     ]
    },
    {
     "name": "stdout",
     "output_type": "stream",
     "text": [
      "zipcode, Num de valores NaN: 40634\n",
      "property_type, Num de valores NaN: 1\n",
      "room_type, Num de valores NaN: 1\n",
      "accommodates, Num de valores NaN: 1\n",
      "amenities, Num de valores NaN: 1\n",
      "bathrooms, Num de valores NaN: 1494\n",
      "bedrooms, Num de valores NaN: 776\n",
      "beds, Num de valores NaN: 2335\n",
      "bed_type, Num de valores NaN: 1\n",
      "price, Num de valores NaN: 1\n",
      "minimum_nights, Num de valores NaN: 1\n",
      "availability_30, Num de valores NaN: 1\n",
      "number_of_reviews, Num de valores NaN: 1\n",
      "review_scores_rating, Num de valores NaN: 384939\n",
      "calculated_host_listings_count, Num de valores NaN: 2\n"
     ]
    }
   ],
   "source": [
    "# 1. Leitura dos Dados\n",
    "data = pd.read_csv('total_data.csv')\n",
    "data = data[[\"zipcode\", \"property_type\", \"room_type\", \"accommodates\", \"amenities\", \"bathrooms\", \"bedrooms\", \"beds\", \"bed_type\", \"price\", \"minimum_nights\", \"availability_30\", \"number_of_reviews\", \"review_scores_rating\", \"calculated_host_listings_count\"]]\n",
    "\n",
    "# 1.1 Detecção de colunas com NaN\n",
    "for col in data.columns:\n",
    "    print (col + ', Num de valores NaN:', len(data[col][data[col].isnull()]))"
   ],
   "metadata": {
    "collapsed": false,
    "ExecuteTime": {
     "end_time": "2023-10-18T22:03:56.155384900Z",
     "start_time": "2023-10-18T22:03:28.356494100Z"
    }
   },
   "id": "b5874925e73305a2"
  },
  {
   "cell_type": "code",
   "execution_count": 21,
   "outputs": [],
   "source": [
    "# 2. Limpeza e Encoding\n",
    "le = LabelEncoder()\n",
    "data = data.dropna(how='any', subset=['zipcode', 'property_type', 'room_type', 'accommodates', 'amenities', 'bedrooms', 'beds', 'bathrooms', 'bed_type', 'price', 'minimum_nights',\n",
    "                                      'availability_30', 'number_of_reviews', 'review_scores_rating', 'calculated_host_listings_count'])\n",
    "data['room_type_encoded'] = le.fit_transform(data['room_type'])\n",
    "data['property_type_encoded'] = le.fit_transform(data['property_type'])\n",
    "data['bed_type_encoded'] = le.fit_transform(data['bed_type'])\n",
    "data['price'] = data['price'].replace('[\\$,]', '', regex=True)\n",
    "data['price'] = data['price'].astype(float)\n",
    "data['minimum_nights'] = data['minimum_nights'].astype(int);\n",
    "\n",
    "# Remove os valores zerados\n",
    "data = data[data['accommodates'] != 0]\n",
    "data = data[data['bedrooms'] != 0]\n",
    "data = data[data['beds'] != 0]\n",
    "data = data[data['price'] != 0.00]\n",
    "\n",
    "# Remove os outliers de alguns campos\n",
    "data['zipcode'] = data['zipcode'].str.replace(r'-\\d+', '')\n",
    "data['zipcode_encoded'] = le.fit_transform(data['zipcode'])\n",
    "data.drop(data[data['minimum_nights'] > 30].index, axis=0, inplace=True)\n",
    "data.drop(data[data['minimum_nights'] < 1].index, axis=0, inplace=True)\n",
    "data.drop(data[data[\"calculated_host_listings_count\"] < 1].index, axis=0, inplace=True)"
   ],
   "metadata": {
    "collapsed": false,
    "ExecuteTime": {
     "end_time": "2023-10-18T22:18:08.906143700Z",
     "start_time": "2023-10-18T22:18:08.235929300Z"
    }
   },
   "id": "6766df671c5eedc4"
  },
  {
   "cell_type": "code",
   "execution_count": 4,
   "outputs": [],
   "source": [
    "# 2.1 Encoding das Comodidades\n",
    "# Transforma as comodidades em um dataframe relacionado com o preço das listagens\n",
    "amenities = (data['amenities'].str.strip('{}').str.get_dummies(',').rename(columns= lambda x: x.strip('\"')))\n",
    "dataAmenities = pd.DataFrame(data['price']).join(amenities)"
   ],
   "metadata": {
    "collapsed": false
   },
   "id": "2b09bd2c91cf398"
  },
  {
   "cell_type": "code",
   "execution_count": 5,
   "outputs": [],
   "source": [
    "# 2.2 Matriz de Correlação -> Coeficientes\n",
    "# Converte a matrix de correlação criada usando o dataframe em coeficientes lineares\n",
    "corr = dataAmenities.corr()\n",
    "attrPriceCoeffs = corr['price'].drop('price')\n",
    "attrPriceCoeffsVal = attrPriceCoeffs.values.reshape(-1, 1)\n",
    "scaler = MinMaxScaler()\n",
    "attrPriceCoeffsNorm = scaler.fit_transform(attrPriceCoeffsVal)"
   ],
   "metadata": {
    "collapsed": false
   },
   "id": "c80f9fe5b1f60281"
  },
  {
   "cell_type": "code",
   "execution_count": 23,
   "outputs": [],
   "source": [
    "# 2.3 Coeficientes escalares -> somatória ponderada das comodidades\n",
    "coeffs = pd.DataFrame(attrPriceCoeffsNorm)\n",
    "coeffs.set_index(attrPriceCoeffs.keys(), inplace=True)\n",
    "coeffs.rename(columns= lambda  x: 'price', inplace=True)\n",
    "coeffs.rename(str.lower, axis='index', inplace=True)\n",
    "dataAmenities.rename(columns= lambda x: x.lower(), inplace=True)\n",
    "dataAmenities = dataAmenities.drop('price', axis=1)\n",
    "\n",
    "# Faz a somatória dos valores do dataframe multiplicado pelos coeficientes\n",
    "dataAmenities['sum'] = (dataAmenities * coeffs['price']).sum(1)\n",
    "data['amenities_sum'] = dataAmenities['sum']\n",
    "\n",
    "data"
   ],
   "metadata": {
    "collapsed": false,
    "ExecuteTime": {
     "end_time": "2023-10-18T22:18:12.555248200Z",
     "start_time": "2023-10-18T22:18:12.534780400Z"
    }
   },
   "id": "5ba5db452bdc7916"
  },
  {
   "cell_type": "code",
   "execution_count": 7,
   "outputs": [],
   "source": [
    "# 2.4 Categorização do valor das reviews por listagem\n",
    "def convert_scores_categ(val):\n",
    "    if val == 'Sem Reviews':\n",
    "        return 'Sem Reviews'\n",
    "    elif val >= 95.0:\n",
    "        return '95-100'\n",
    "    elif val >= 90.0 and val < 95.0:\n",
    "        return '90-94'\n",
    "    elif val >= 85.0 and val < 90.0:\n",
    "        return '85-89'\n",
    "    elif val >= 80.0 and val < 85.0:\n",
    "        return '80-84'\n",
    "    elif val >= 70.0 and val < 80.0:\n",
    "        return '70-79'\n",
    "    elif val >= 60.0 and val < 70.0:\n",
    "        return '60-69'\n",
    "    elif val >= 50.0 and val < 60.0:\n",
    "        return '50-59'\n",
    "    elif val >= 40.0 and val < 50.0:\n",
    "        return '40-49'\n",
    "    elif val >= 30.0 and val < 40.0:\n",
    "        return '30-39'\n",
    "    elif val >= 20.0 and val < 30.0:\n",
    "        return '20-29'\n",
    "    elif val >= 10.0 and val < 20.0:\n",
    "        return '10-19'\n",
    "    elif val < 10.0:\n",
    "        return '0-9'\n",
    "    \n",
    "data['review_scores_rating_encoded'] = data['review_scores_rating'].apply(convert_scores_categ)\n",
    "data['review_scores_rating_encoded'] = le.fit_transform(data['review_scores_rating_encoded'])"
   ],
   "metadata": {
    "collapsed": false,
    "ExecuteTime": {
     "end_time": "2023-10-18T22:04:38.430688800Z",
     "start_time": "2023-10-18T22:04:38.343256700Z"
    }
   },
   "id": "3da00e7f0a9de37"
  },
  {
   "cell_type": "code",
   "execution_count": 8,
   "outputs": [
    {
     "data": {
      "text/plain": "          zipcode       property_type        room_type  accommodates  \\\n0       22020-050         Condominium  Entire home/apt      0.351055   \n1       22411-010           Apartment  Entire home/apt     -0.797150   \n2       22060-020           Apartment  Entire home/apt     -0.414415   \n3       22410-003           Apartment  Entire home/apt     -0.414415   \n4       22081-020           Apartment  Entire home/apt     -0.414415   \n...           ...                 ...              ...           ...   \n783759  20230-180           Apartment  Entire home/apt     -0.797150   \n783814  22775-033                Loft  Entire home/apt     -0.797150   \n783822  22630-011           Apartment  Entire home/apt     -0.031680   \n784030  22631-000  Serviced apartment  Entire home/apt     -0.797150   \n784069  22783-115           Apartment  Entire home/apt     -0.414415   \n\n                                                amenities  bathrooms  \\\n0       {TV,\"Cable TV\",Internet,Wifi,\"Air conditioning...  -0.680223   \n1       {TV,\"Cable TV\",Wifi,\"Air conditioning\",\"First ...  -0.680223   \n2       {TV,\"Cable TV\",Internet,Wifi,\"Air conditioning...  -0.680223   \n3       {TV,\"Cable TV\",Internet,Wifi,\"Air conditioning...  -0.680223   \n4       {TV,\"Cable TV\",Internet,Wifi,\"Air conditioning...  -0.115993   \n...                                                   ...        ...   \n783759  {TV,Wifi,\"Air conditioning\",\"Free parking on p...  -0.680223   \n783814  {TV,Wifi,\"Air conditioning\",Pool,Kitchen,\"Free...  -0.680223   \n783822  {TV,\"Air conditioning\",Pool,Kitchen,\"Free park...  -0.680223   \n784030  {TV,Wifi,\"Air conditioning\",Pool,\"Free parking...  -0.680223   \n784069  {TV,\"Cable TV\",Wifi,\"Air conditioning\",Pool,Ki...  -0.680223   \n\n        bedrooms      beds  bed_type   price  ...  availability_30  \\\n0       0.407117 -0.292955  Real Bed   307.0  ...        -1.287868   \n1      -0.680834 -0.801487  Real Bed   233.0  ...        -1.287868   \n2      -0.680834 -0.292955  Real Bed   159.0  ...        -0.395597   \n3      -0.680834 -0.292955  Real Bed   253.0  ...        -1.287868   \n4      -0.680834 -0.292955  Real Bed   350.0  ...        -0.638944   \n...          ...       ...       ...     ...  ...              ...   \n783759 -0.680834 -0.801487  Real Bed  7367.0  ...         0.821135   \n783814 -0.680834 -0.801487  Real Bed   200.0  ...        -1.206752   \n783822 -0.680834 -0.801487  Real Bed   302.0  ...         0.821135   \n784030 -0.680834 -0.292955  Real Bed   148.0  ...        -1.287868   \n784069 -0.680834 -0.801487  Real Bed   110.0  ...         0.253327   \n\n        number_of_reviews  review_scores_rating  \\\n0                6.727588                  93.0   \n1                2.368734                  95.0   \n2                6.761641                  94.0   \n3                6.795695                  96.0   \n4                3.628715                  94.0   \n...                   ...                   ...   \n783759          -0.491764                  60.0   \n783814          -0.457710                 100.0   \n783822          -0.457710                 100.0   \n784030          -0.491764                 100.0   \n784069          -0.491764                 100.0   \n\n        calculated_host_listings_count  room_type_encoded  \\\n0                            -0.232058                  0   \n1                            -0.232058                  0   \n2                            -0.143814                  0   \n3                            -0.232058                  0   \n4                            -0.232058                  0   \n...                                ...                ...   \n783759                       14.019249                  0   \n783814                       -0.187936                  0   \n783822                       -0.232058                  0   \n784030                       -0.232058                  0   \n784069                       -0.232058                  0   \n\n        property_type_encoded  bed_type_encoded  zipcode_encoded  \\\n0                          12                 4             1180   \n1                           1                 4             1920   \n2                           1                 4             1347   \n3                           1                 4             1895   \n4                           1                 4             1443   \n...                       ...               ...              ...   \n783759                      1                 4              161   \n783814                     27                 4             2708   \n783822                      1                 4             2412   \n784030                     31                 4             2435   \n784069                      1                 4             2824   \n\n        amenities_sum  review_scores_rating_encoded  \n0            0.641107                             8  \n1           -0.614293                             9  \n2           -0.256192                             8  \n3           -0.183681                             9  \n4            0.884302                             8  \n...               ...                           ...  \n783759      -1.043605                             4  \n783814      -0.749880                             9  \n783822      -0.678639                             9  \n784030      -0.396362                             9  \n784069       0.617855                             9  \n\n[350706 rows x 21 columns]",
      "text/html": "<div>\n<style scoped>\n    .dataframe tbody tr th:only-of-type {\n        vertical-align: middle;\n    }\n\n    .dataframe tbody tr th {\n        vertical-align: top;\n    }\n\n    .dataframe thead th {\n        text-align: right;\n    }\n</style>\n<table border=\"1\" class=\"dataframe\">\n  <thead>\n    <tr style=\"text-align: right;\">\n      <th></th>\n      <th>zipcode</th>\n      <th>property_type</th>\n      <th>room_type</th>\n      <th>accommodates</th>\n      <th>amenities</th>\n      <th>bathrooms</th>\n      <th>bedrooms</th>\n      <th>beds</th>\n      <th>bed_type</th>\n      <th>price</th>\n      <th>...</th>\n      <th>availability_30</th>\n      <th>number_of_reviews</th>\n      <th>review_scores_rating</th>\n      <th>calculated_host_listings_count</th>\n      <th>room_type_encoded</th>\n      <th>property_type_encoded</th>\n      <th>bed_type_encoded</th>\n      <th>zipcode_encoded</th>\n      <th>amenities_sum</th>\n      <th>review_scores_rating_encoded</th>\n    </tr>\n  </thead>\n  <tbody>\n    <tr>\n      <th>0</th>\n      <td>22020-050</td>\n      <td>Condominium</td>\n      <td>Entire home/apt</td>\n      <td>0.351055</td>\n      <td>{TV,\"Cable TV\",Internet,Wifi,\"Air conditioning...</td>\n      <td>-0.680223</td>\n      <td>0.407117</td>\n      <td>-0.292955</td>\n      <td>Real Bed</td>\n      <td>307.0</td>\n      <td>...</td>\n      <td>-1.287868</td>\n      <td>6.727588</td>\n      <td>93.0</td>\n      <td>-0.232058</td>\n      <td>0</td>\n      <td>12</td>\n      <td>4</td>\n      <td>1180</td>\n      <td>0.641107</td>\n      <td>8</td>\n    </tr>\n    <tr>\n      <th>1</th>\n      <td>22411-010</td>\n      <td>Apartment</td>\n      <td>Entire home/apt</td>\n      <td>-0.797150</td>\n      <td>{TV,\"Cable TV\",Wifi,\"Air conditioning\",\"First ...</td>\n      <td>-0.680223</td>\n      <td>-0.680834</td>\n      <td>-0.801487</td>\n      <td>Real Bed</td>\n      <td>233.0</td>\n      <td>...</td>\n      <td>-1.287868</td>\n      <td>2.368734</td>\n      <td>95.0</td>\n      <td>-0.232058</td>\n      <td>0</td>\n      <td>1</td>\n      <td>4</td>\n      <td>1920</td>\n      <td>-0.614293</td>\n      <td>9</td>\n    </tr>\n    <tr>\n      <th>2</th>\n      <td>22060-020</td>\n      <td>Apartment</td>\n      <td>Entire home/apt</td>\n      <td>-0.414415</td>\n      <td>{TV,\"Cable TV\",Internet,Wifi,\"Air conditioning...</td>\n      <td>-0.680223</td>\n      <td>-0.680834</td>\n      <td>-0.292955</td>\n      <td>Real Bed</td>\n      <td>159.0</td>\n      <td>...</td>\n      <td>-0.395597</td>\n      <td>6.761641</td>\n      <td>94.0</td>\n      <td>-0.143814</td>\n      <td>0</td>\n      <td>1</td>\n      <td>4</td>\n      <td>1347</td>\n      <td>-0.256192</td>\n      <td>8</td>\n    </tr>\n    <tr>\n      <th>3</th>\n      <td>22410-003</td>\n      <td>Apartment</td>\n      <td>Entire home/apt</td>\n      <td>-0.414415</td>\n      <td>{TV,\"Cable TV\",Internet,Wifi,\"Air conditioning...</td>\n      <td>-0.680223</td>\n      <td>-0.680834</td>\n      <td>-0.292955</td>\n      <td>Real Bed</td>\n      <td>253.0</td>\n      <td>...</td>\n      <td>-1.287868</td>\n      <td>6.795695</td>\n      <td>96.0</td>\n      <td>-0.232058</td>\n      <td>0</td>\n      <td>1</td>\n      <td>4</td>\n      <td>1895</td>\n      <td>-0.183681</td>\n      <td>9</td>\n    </tr>\n    <tr>\n      <th>4</th>\n      <td>22081-020</td>\n      <td>Apartment</td>\n      <td>Entire home/apt</td>\n      <td>-0.414415</td>\n      <td>{TV,\"Cable TV\",Internet,Wifi,\"Air conditioning...</td>\n      <td>-0.115993</td>\n      <td>-0.680834</td>\n      <td>-0.292955</td>\n      <td>Real Bed</td>\n      <td>350.0</td>\n      <td>...</td>\n      <td>-0.638944</td>\n      <td>3.628715</td>\n      <td>94.0</td>\n      <td>-0.232058</td>\n      <td>0</td>\n      <td>1</td>\n      <td>4</td>\n      <td>1443</td>\n      <td>0.884302</td>\n      <td>8</td>\n    </tr>\n    <tr>\n      <th>...</th>\n      <td>...</td>\n      <td>...</td>\n      <td>...</td>\n      <td>...</td>\n      <td>...</td>\n      <td>...</td>\n      <td>...</td>\n      <td>...</td>\n      <td>...</td>\n      <td>...</td>\n      <td>...</td>\n      <td>...</td>\n      <td>...</td>\n      <td>...</td>\n      <td>...</td>\n      <td>...</td>\n      <td>...</td>\n      <td>...</td>\n      <td>...</td>\n      <td>...</td>\n      <td>...</td>\n    </tr>\n    <tr>\n      <th>783759</th>\n      <td>20230-180</td>\n      <td>Apartment</td>\n      <td>Entire home/apt</td>\n      <td>-0.797150</td>\n      <td>{TV,Wifi,\"Air conditioning\",\"Free parking on p...</td>\n      <td>-0.680223</td>\n      <td>-0.680834</td>\n      <td>-0.801487</td>\n      <td>Real Bed</td>\n      <td>7367.0</td>\n      <td>...</td>\n      <td>0.821135</td>\n      <td>-0.491764</td>\n      <td>60.0</td>\n      <td>14.019249</td>\n      <td>0</td>\n      <td>1</td>\n      <td>4</td>\n      <td>161</td>\n      <td>-1.043605</td>\n      <td>4</td>\n    </tr>\n    <tr>\n      <th>783814</th>\n      <td>22775-033</td>\n      <td>Loft</td>\n      <td>Entire home/apt</td>\n      <td>-0.797150</td>\n      <td>{TV,Wifi,\"Air conditioning\",Pool,Kitchen,\"Free...</td>\n      <td>-0.680223</td>\n      <td>-0.680834</td>\n      <td>-0.801487</td>\n      <td>Real Bed</td>\n      <td>200.0</td>\n      <td>...</td>\n      <td>-1.206752</td>\n      <td>-0.457710</td>\n      <td>100.0</td>\n      <td>-0.187936</td>\n      <td>0</td>\n      <td>27</td>\n      <td>4</td>\n      <td>2708</td>\n      <td>-0.749880</td>\n      <td>9</td>\n    </tr>\n    <tr>\n      <th>783822</th>\n      <td>22630-011</td>\n      <td>Apartment</td>\n      <td>Entire home/apt</td>\n      <td>-0.031680</td>\n      <td>{TV,\"Air conditioning\",Pool,Kitchen,\"Free park...</td>\n      <td>-0.680223</td>\n      <td>-0.680834</td>\n      <td>-0.801487</td>\n      <td>Real Bed</td>\n      <td>302.0</td>\n      <td>...</td>\n      <td>0.821135</td>\n      <td>-0.457710</td>\n      <td>100.0</td>\n      <td>-0.232058</td>\n      <td>0</td>\n      <td>1</td>\n      <td>4</td>\n      <td>2412</td>\n      <td>-0.678639</td>\n      <td>9</td>\n    </tr>\n    <tr>\n      <th>784030</th>\n      <td>22631-000</td>\n      <td>Serviced apartment</td>\n      <td>Entire home/apt</td>\n      <td>-0.797150</td>\n      <td>{TV,Wifi,\"Air conditioning\",Pool,\"Free parking...</td>\n      <td>-0.680223</td>\n      <td>-0.680834</td>\n      <td>-0.292955</td>\n      <td>Real Bed</td>\n      <td>148.0</td>\n      <td>...</td>\n      <td>-1.287868</td>\n      <td>-0.491764</td>\n      <td>100.0</td>\n      <td>-0.232058</td>\n      <td>0</td>\n      <td>31</td>\n      <td>4</td>\n      <td>2435</td>\n      <td>-0.396362</td>\n      <td>9</td>\n    </tr>\n    <tr>\n      <th>784069</th>\n      <td>22783-115</td>\n      <td>Apartment</td>\n      <td>Entire home/apt</td>\n      <td>-0.414415</td>\n      <td>{TV,\"Cable TV\",Wifi,\"Air conditioning\",Pool,Ki...</td>\n      <td>-0.680223</td>\n      <td>-0.680834</td>\n      <td>-0.801487</td>\n      <td>Real Bed</td>\n      <td>110.0</td>\n      <td>...</td>\n      <td>0.253327</td>\n      <td>-0.491764</td>\n      <td>100.0</td>\n      <td>-0.232058</td>\n      <td>0</td>\n      <td>1</td>\n      <td>4</td>\n      <td>2824</td>\n      <td>0.617855</td>\n      <td>9</td>\n    </tr>\n  </tbody>\n</table>\n<p>350706 rows × 21 columns</p>\n</div>"
     },
     "execution_count": 8,
     "metadata": {},
     "output_type": "execute_result"
    }
   ],
   "source": [
    "# 2.5 Faz a padronização de colunas que não são categorizaveis\n",
    "# Utilizando o mean / std no método abaixo\n",
    "def standardize_col(col):\n",
    "    mean = np.mean(col)\n",
    "    std = np.std(col)\n",
    "    return col.apply(lambda x: (x - mean) / std)\n",
    "\n",
    "non_cat_vars = ['accommodates', 'bedrooms', 'beds', 'number_of_reviews', 'availability_30', 'minimum_nights', 'bathrooms', 'amenities_sum', 'calculated_host_listings_count']\n",
    "for col in non_cat_vars:\n",
    "    data[col] = data[col].astype(float)\n",
    "    data[col] = standardize_col(data[col])\n",
    "\n",
    "data"
   ],
   "metadata": {
    "collapsed": false,
    "ExecuteTime": {
     "end_time": "2023-10-18T22:04:39.525916Z",
     "start_time": "2023-10-18T22:04:38.424165300Z"
    }
   },
   "id": "e415f29ff0c46f3f"
  },
  {
   "cell_type": "code",
   "execution_count": 9,
   "outputs": [
    {
     "data": {
      "text/plain": "array([[ 3.51054636e-01, -6.80222577e-01,  4.07117119e-01, ...,\n         1.18000000e+03,  6.41106547e-01,  8.00000000e+00],\n       [-7.97149623e-01, -6.80222577e-01, -6.80834483e-01, ...,\n         1.92000000e+03, -6.14292932e-01,  9.00000000e+00],\n       [-4.14414870e-01, -6.80222577e-01, -6.80834483e-01, ...,\n         1.34700000e+03, -2.56192113e-01,  8.00000000e+00],\n       ...,\n       [-3.16801171e-02, -6.80222577e-01, -6.80834483e-01, ...,\n         2.41200000e+03, -6.78639374e-01,  9.00000000e+00],\n       [-7.97149623e-01, -6.80222577e-01, -6.80834483e-01, ...,\n         2.43500000e+03, -3.96361877e-01,  9.00000000e+00],\n       [-4.14414870e-01, -6.80222577e-01, -6.80834483e-01, ...,\n         2.82400000e+03,  6.17854694e-01,  9.00000000e+00]])"
     },
     "execution_count": 9,
     "metadata": {},
     "output_type": "execute_result"
    }
   ],
   "source": [
    "# 3. Features do modelo, dados considerados para o treinamento\n",
    "features = (data.drop('price', axis=1).drop('property_type', axis=1).drop('room_type', axis=1).drop('amenities', axis=1)\n",
    "            .drop('bed_type', axis=1).drop('zipcode', axis=1).drop('review_scores_rating', axis=1).values)\n",
    "prediction = data['price'].values\n",
    "features"
   ],
   "metadata": {
    "collapsed": false,
    "ExecuteTime": {
     "end_time": "2023-10-18T22:04:39.714018500Z",
     "start_time": "2023-10-18T22:04:39.522915Z"
    }
   },
   "id": "2bfdbdcdbcb70f0"
  },
  {
   "cell_type": "code",
   "execution_count": 10,
   "outputs": [],
   "source": [
    "# 3.1 Divisão dos dados entre valores de teste e treinamento\n",
    "# Baseado no estado e no tamanho de teste\n",
    "x_train, x_test, y_train, y_test = train_test_split(features, prediction, test_size=0.33, random_state=42)\n",
    "ss = StandardScaler()\n",
    "x_train = ss.fit_transform(x_train.astype(float))\n",
    "x_test = ss.transform(x_test.astype(float))"
   ],
   "metadata": {
    "collapsed": false,
    "ExecuteTime": {
     "end_time": "2023-10-18T22:04:39.828494Z",
     "start_time": "2023-10-18T22:04:39.708320600Z"
    }
   },
   "id": "c30ecbbafe635f6"
  },
  {
   "cell_type": "code",
   "execution_count": 13,
   "outputs": [
    {
     "name": "stdout",
     "output_type": "stream",
     "text": [
      "Model: \"modelo-airbnb-dnn\"\n",
      "_________________________________________________________________\n",
      " Layer (type)                Output Shape              Param #   \n",
      "=================================================================\n",
      " dense_6 (Dense)             (None, 512)               7680      \n",
      "                                                                 \n",
      " leaky_re_lu_5 (LeakyReLU)   (None, 512)               0         \n",
      "                                                                 \n",
      " batch_normalization_4 (Bat  (None, 512)               2048      \n",
      " chNormalization)                                                \n",
      "                                                                 \n",
      " dropout_5 (Dropout)         (None, 512)               0         \n",
      "                                                                 \n",
      " dense_7 (Dense)             (None, 512)               262656    \n",
      "                                                                 \n",
      " leaky_re_lu_6 (LeakyReLU)   (None, 512)               0         \n",
      "                                                                 \n",
      " batch_normalization_5 (Bat  (None, 512)               2048      \n",
      " chNormalization)                                                \n",
      "                                                                 \n",
      " dropout_6 (Dropout)         (None, 512)               0         \n",
      "                                                                 \n",
      " dense_8 (Dense)             (None, 256)               131328    \n",
      "                                                                 \n",
      " leaky_re_lu_7 (LeakyReLU)   (None, 256)               0         \n",
      "                                                                 \n",
      " batch_normalization_6 (Bat  (None, 256)               1024      \n",
      " chNormalization)                                                \n",
      "                                                                 \n",
      " dropout_7 (Dropout)         (None, 256)               0         \n",
      "                                                                 \n",
      " dense_9 (Dense)             (None, 256)               65792     \n",
      "                                                                 \n",
      " leaky_re_lu_8 (LeakyReLU)   (None, 256)               0         \n",
      "                                                                 \n",
      " batch_normalization_7 (Bat  (None, 256)               1024      \n",
      " chNormalization)                                                \n",
      "                                                                 \n",
      " dropout_8 (Dropout)         (None, 256)               0         \n",
      "                                                                 \n",
      " dense_10 (Dense)            (None, 128)               32896     \n",
      "                                                                 \n",
      " leaky_re_lu_9 (LeakyReLU)   (None, 128)               0         \n",
      "                                                                 \n",
      " dropout_9 (Dropout)         (None, 128)               0         \n",
      "                                                                 \n",
      " dense_11 (Dense)            (None, 1)                 129       \n",
      "                                                                 \n",
      "=================================================================\n",
      "Total params: 506625 (1.93 MB)\n",
      "Trainable params: 503553 (1.92 MB)\n",
      "Non-trainable params: 3072 (12.00 KB)\n",
      "_________________________________________________________________\n"
     ]
    }
   ],
   "source": [
    "# 3.2 Criação do modelo sequencial de network neural\n",
    "# Utilizando algoritmos do Keras, pelo tensorflow\n",
    "model = keras.models.Sequential([\n",
    "    keras.layers.Dense(512, input_shape=(14,)),\n",
    "    keras.layers.LeakyReLU(),\n",
    "    keras.layers.BatchNormalization(),\n",
    "    keras.layers.Dropout(0.3),\n",
    "    keras.layers.Dense(512),\n",
    "    keras.layers.LeakyReLU(),\n",
    "    keras.layers.BatchNormalization(),\n",
    "    keras.layers.Dropout(0.3),\n",
    "    keras.layers.Dense(256),\n",
    "    keras.layers.LeakyReLU(),\n",
    "    keras.layers.BatchNormalization(),\n",
    "    keras.layers.Dropout(0.2),\n",
    "    keras.layers.Dense(256),\n",
    "    keras.layers.LeakyReLU(),\n",
    "    keras.layers.BatchNormalization(),\n",
    "    keras.layers.Dropout(0.01),\n",
    "    keras.layers.Dense(128),\n",
    "    keras.layers.LeakyReLU(),\n",
    "    keras.layers.Dropout(0.05),\n",
    "    keras.layers.Dense(1, activation=\"linear\"),\n",
    "],name=\"modelo-airbnb-dnn\",)\n",
    "model.compile(optimizer=keras.optimizers.Nadam(learning_rate=0.005),\n",
    "              loss=[keras.losses.MeanSquaredError()], metrics=[keras.metrics.MeanAbsoluteError()])\n",
    "model.summary()\n",
    "\n",
    "# 3.3 Criação de um callback para uso durante treinamento.\n",
    "# O Keras salva o modelo mais efetivo criado durante o treinamento na pasta de checkpoints.\n",
    "checkpoint_name = 'Weights\\Weights-{epoch:03d}--{val_loss:.5f}.hdf5' \n",
    "checkpoint = tf.keras.callbacks.ModelCheckpoint(checkpoint_name, monitor='val_loss', verbose = 1, save_best_only = True, mode ='auto')\n",
    "callbacks_list = [checkpoint]"
   ],
   "metadata": {
    "collapsed": false,
    "ExecuteTime": {
     "end_time": "2023-10-18T22:07:45.612919400Z",
     "start_time": "2023-10-18T22:07:45.478077700Z"
    }
   },
   "id": "5ee3001c7c870c6a"
  },
  {
   "cell_type": "code",
   "execution_count": 14,
   "outputs": [
    {
     "name": "stdout",
     "output_type": "stream",
     "text": [
      "Epoch 1/30\n",
      "229/230 [============================>.] - ETA: 0s - loss: 600636.3125 - mean_absolute_error: 230.0608\n",
      "Epoch 1: val_loss improved from inf to 674836.75000, saving model to Weights\\Weights-001--674836.75000.hdf5\n",
      "230/230 [==============================] - 12s 39ms/step - loss: 599566.4375 - mean_absolute_error: 229.9368 - val_loss: 674836.7500 - val_mean_absolute_error: 189.8559\n",
      "Epoch 2/30\n",
      "  3/230 [..............................] - ETA: 7s - loss: 509393.8438 - mean_absolute_error: 198.8832"
     ]
    },
    {
     "name": "stderr",
     "output_type": "stream",
     "text": [
      "C:\\Users\\first\\OneDrive\\Documentos\\Projects\\bartmoss-airbnb\\Lib\\site-packages\\keras\\src\\engine\\training.py:3079: UserWarning: You are saving your model as an HDF5 file via `model.save()`. This file format is considered legacy. We recommend using instead the native Keras format, e.g. `model.save('my_model.keras')`.\n",
      "  saving_api.save_model(\n"
     ]
    },
    {
     "name": "stdout",
     "output_type": "stream",
     "text": [
      "229/230 [============================>.] - ETA: 0s - loss: 568749.7500 - mean_absolute_error: 201.9928\n",
      "Epoch 2: val_loss did not improve from 674836.75000\n",
      "230/230 [==============================] - 9s 37ms/step - loss: 568191.5000 - mean_absolute_error: 202.0090 - val_loss: 696153.4375 - val_mean_absolute_error: 223.5657\n",
      "Epoch 3/30\n",
      "229/230 [============================>.] - ETA: 0s - loss: 564977.9375 - mean_absolute_error: 201.2390\n",
      "Epoch 3: val_loss improved from 674836.75000 to 655245.93750, saving model to Weights\\Weights-003--655245.93750.hdf5\n",
      "230/230 [==============================] - 9s 38ms/step - loss: 564040.8750 - mean_absolute_error: 201.1801 - val_loss: 655245.9375 - val_mean_absolute_error: 215.1719\n",
      "Epoch 4/30\n",
      "229/230 [============================>.] - ETA: 0s - loss: 560533.1875 - mean_absolute_error: 200.7297\n",
      "Epoch 4: val_loss did not improve from 655245.93750\n",
      "230/230 [==============================] - 9s 37ms/step - loss: 559634.2500 - mean_absolute_error: 200.7127 - val_loss: 661379.8125 - val_mean_absolute_error: 190.8927\n",
      "Epoch 5/30\n",
      "229/230 [============================>.] - ETA: 0s - loss: 555036.1875 - mean_absolute_error: 199.9709\n",
      "Epoch 5: val_loss improved from 655245.93750 to 638911.06250, saving model to Weights\\Weights-005--638911.06250.hdf5\n",
      "230/230 [==============================] - 9s 39ms/step - loss: 555244.7500 - mean_absolute_error: 200.0480 - val_loss: 638911.0625 - val_mean_absolute_error: 184.4596\n",
      "Epoch 6/30\n",
      "229/230 [============================>.] - ETA: 0s - loss: 551610.4375 - mean_absolute_error: 200.8218\n",
      "Epoch 6: val_loss did not improve from 638911.06250\n",
      "230/230 [==============================] - 9s 39ms/step - loss: 550746.5625 - mean_absolute_error: 200.7468 - val_loss: 649732.5625 - val_mean_absolute_error: 182.3706\n",
      "Epoch 7/30\n",
      "229/230 [============================>.] - ETA: 0s - loss: 548712.8125 - mean_absolute_error: 199.2979\n",
      "Epoch 7: val_loss did not improve from 638911.06250\n",
      "230/230 [==============================] - 9s 38ms/step - loss: 547741.1875 - mean_absolute_error: 199.2508 - val_loss: 646965.6250 - val_mean_absolute_error: 182.6677\n",
      "Epoch 8/30\n",
      "229/230 [============================>.] - ETA: 0s - loss: 543625.6875 - mean_absolute_error: 199.6217\n",
      "Epoch 8: val_loss improved from 638911.06250 to 628579.50000, saving model to Weights\\Weights-008--628579.50000.hdf5\n",
      "230/230 [==============================] - 8s 37ms/step - loss: 544349.1875 - mean_absolute_error: 199.7435 - val_loss: 628579.5000 - val_mean_absolute_error: 186.2062\n",
      "Epoch 9/30\n",
      "229/230 [============================>.] - ETA: 0s - loss: 543732.3750 - mean_absolute_error: 199.6875\n",
      "Epoch 9: val_loss did not improve from 628579.50000\n",
      "230/230 [==============================] - 9s 38ms/step - loss: 542793.1875 - mean_absolute_error: 199.6356 - val_loss: 633869.5000 - val_mean_absolute_error: 188.0874\n",
      "Epoch 10/30\n",
      "229/230 [============================>.] - ETA: 0s - loss: 543514.6250 - mean_absolute_error: 199.9075\n",
      "Epoch 10: val_loss did not improve from 628579.50000\n",
      "230/230 [==============================] - 9s 39ms/step - loss: 542585.0625 - mean_absolute_error: 199.8672 - val_loss: 639586.5000 - val_mean_absolute_error: 181.7071\n",
      "Epoch 11/30\n",
      "229/230 [============================>.] - ETA: 0s - loss: 536696.5625 - mean_absolute_error: 197.8530\n",
      "Epoch 11: val_loss did not improve from 628579.50000\n",
      "230/230 [==============================] - 9s 38ms/step - loss: 536565.0000 - mean_absolute_error: 197.8718 - val_loss: 632208.5000 - val_mean_absolute_error: 188.5919\n",
      "Epoch 12/30\n",
      "229/230 [============================>.] - ETA: 0s - loss: 530878.2500 - mean_absolute_error: 197.9874\n",
      "Epoch 12: val_loss improved from 628579.50000 to 615063.62500, saving model to Weights\\Weights-012--615063.62500.hdf5\n",
      "230/230 [==============================] - 9s 39ms/step - loss: 537010.5625 - mean_absolute_error: 198.1820 - val_loss: 615063.6250 - val_mean_absolute_error: 190.1201\n",
      "Epoch 13/30\n",
      "230/230 [==============================] - ETA: 0s - loss: 532145.2500 - mean_absolute_error: 199.3666\n",
      "Epoch 13: val_loss did not improve from 615063.62500\n",
      "230/230 [==============================] - 9s 39ms/step - loss: 532145.2500 - mean_absolute_error: 199.3666 - val_loss: 632475.8750 - val_mean_absolute_error: 188.0651\n",
      "Epoch 14/30\n",
      "229/230 [============================>.] - ETA: 0s - loss: 531687.1875 - mean_absolute_error: 199.2343\n",
      "Epoch 14: val_loss did not improve from 615063.62500\n",
      "230/230 [==============================] - 9s 37ms/step - loss: 531832.8125 - mean_absolute_error: 199.2668 - val_loss: 641719.1250 - val_mean_absolute_error: 190.0825\n",
      "Epoch 15/30\n",
      "229/230 [============================>.] - ETA: 0s - loss: 531982.8125 - mean_absolute_error: 199.2099\n",
      "Epoch 15: val_loss did not improve from 615063.62500\n",
      "230/230 [==============================] - 8s 36ms/step - loss: 531075.7500 - mean_absolute_error: 199.1480 - val_loss: 623040.9375 - val_mean_absolute_error: 183.4080\n",
      "Epoch 16/30\n",
      "229/230 [============================>.] - ETA: 0s - loss: 527905.3125 - mean_absolute_error: 199.4798\n",
      "Epoch 16: val_loss improved from 615063.62500 to 612383.93750, saving model to Weights\\Weights-016--612383.93750.hdf5\n",
      "230/230 [==============================] - 9s 38ms/step - loss: 527003.6250 - mean_absolute_error: 199.4048 - val_loss: 612383.9375 - val_mean_absolute_error: 180.3127\n",
      "Epoch 17/30\n",
      "229/230 [============================>.] - ETA: 0s - loss: 522318.6250 - mean_absolute_error: 198.5288\n",
      "Epoch 17: val_loss did not improve from 612383.93750\n",
      "230/230 [==============================] - 9s 39ms/step - loss: 522810.4062 - mean_absolute_error: 198.5433 - val_loss: 630637.8125 - val_mean_absolute_error: 187.7964\n",
      "Epoch 18/30\n",
      "229/230 [============================>.] - ETA: 0s - loss: 523093.6250 - mean_absolute_error: 199.5557\n",
      "Epoch 18: val_loss improved from 612383.93750 to 604372.43750, saving model to Weights\\Weights-018--604372.43750.hdf5\n",
      "230/230 [==============================] - 9s 37ms/step - loss: 523310.8125 - mean_absolute_error: 199.6083 - val_loss: 604372.4375 - val_mean_absolute_error: 205.8945\n",
      "Epoch 19/30\n",
      "229/230 [============================>.] - ETA: 0s - loss: 521508.6875 - mean_absolute_error: 200.9556\n",
      "Epoch 19: val_loss improved from 604372.43750 to 604177.43750, saving model to Weights\\Weights-019--604177.43750.hdf5\n",
      "230/230 [==============================] - 9s 39ms/step - loss: 521319.8750 - mean_absolute_error: 200.9503 - val_loss: 604177.4375 - val_mean_absolute_error: 193.9934\n",
      "Epoch 20/30\n",
      "229/230 [============================>.] - ETA: 0s - loss: 517930.4688 - mean_absolute_error: 199.7843\n",
      "Epoch 20: val_loss improved from 604177.43750 to 599240.18750, saving model to Weights\\Weights-020--599240.18750.hdf5\n",
      "230/230 [==============================] - 9s 40ms/step - loss: 517177.6562 - mean_absolute_error: 199.7644 - val_loss: 599240.1875 - val_mean_absolute_error: 183.4804\n",
      "Epoch 21/30\n",
      "229/230 [============================>.] - ETA: 0s - loss: 513538.9375 - mean_absolute_error: 200.7365\n",
      "Epoch 21: val_loss did not improve from 599240.18750\n",
      "230/230 [==============================] - 9s 39ms/step - loss: 512887.6562 - mean_absolute_error: 200.7294 - val_loss: 604569.6875 - val_mean_absolute_error: 186.3716\n",
      "Epoch 22/30\n",
      "229/230 [============================>.] - ETA: 0s - loss: 508328.5938 - mean_absolute_error: 200.1875\n",
      "Epoch 22: val_loss improved from 599240.18750 to 579600.25000, saving model to Weights\\Weights-022--579600.25000.hdf5\n",
      "230/230 [==============================] - 9s 40ms/step - loss: 507645.3125 - mean_absolute_error: 200.1657 - val_loss: 579600.2500 - val_mean_absolute_error: 181.0487\n",
      "Epoch 23/30\n",
      "229/230 [============================>.] - ETA: 0s - loss: 508059.7500 - mean_absolute_error: 201.2794\n",
      "Epoch 23: val_loss did not improve from 579600.25000\n",
      "230/230 [==============================] - 9s 39ms/step - loss: 507419.8125 - mean_absolute_error: 201.2557 - val_loss: 596222.5000 - val_mean_absolute_error: 181.7919\n",
      "Epoch 24/30\n",
      "229/230 [============================>.] - ETA: 0s - loss: 516907.9062 - mean_absolute_error: 201.4096\n",
      "Epoch 24: val_loss did not improve from 579600.25000\n",
      "230/230 [==============================] - 9s 38ms/step - loss: 516527.4375 - mean_absolute_error: 201.4355 - val_loss: 580611.3125 - val_mean_absolute_error: 189.8538\n",
      "Epoch 25/30\n",
      "229/230 [============================>.] - ETA: 0s - loss: 501579.5625 - mean_absolute_error: 201.2421\n",
      "Epoch 25: val_loss did not improve from 579600.25000\n",
      "230/230 [==============================] - 8s 36ms/step - loss: 501614.7500 - mean_absolute_error: 201.2340 - val_loss: 592871.8750 - val_mean_absolute_error: 177.9459\n",
      "Epoch 26/30\n",
      "229/230 [============================>.] - ETA: 0s - loss: 493795.2812 - mean_absolute_error: 201.7231\n",
      "Epoch 26: val_loss did not improve from 579600.25000\n",
      "230/230 [==============================] - 9s 38ms/step - loss: 494103.9688 - mean_absolute_error: 201.7169 - val_loss: 593210.1875 - val_mean_absolute_error: 185.9756\n",
      "Epoch 27/30\n",
      "229/230 [============================>.] - ETA: 0s - loss: 499686.5938 - mean_absolute_error: 202.3502\n",
      "Epoch 27: val_loss improved from 579600.25000 to 572280.75000, saving model to Weights\\Weights-027--572280.75000.hdf5\n",
      "230/230 [==============================] - 9s 38ms/step - loss: 498979.2500 - mean_absolute_error: 202.2986 - val_loss: 572280.7500 - val_mean_absolute_error: 181.5819\n",
      "Epoch 28/30\n",
      "229/230 [============================>.] - ETA: 0s - loss: 493459.6875 - mean_absolute_error: 200.4099\n",
      "Epoch 28: val_loss improved from 572280.75000 to 560476.50000, saving model to Weights\\Weights-028--560476.50000.hdf5\n",
      "230/230 [==============================] - 9s 38ms/step - loss: 493100.4062 - mean_absolute_error: 200.4669 - val_loss: 560476.5000 - val_mean_absolute_error: 189.3236\n",
      "Epoch 29/30\n",
      "229/230 [============================>.] - ETA: 0s - loss: 492421.5938 - mean_absolute_error: 203.0306\n",
      "Epoch 29: val_loss did not improve from 560476.50000\n",
      "230/230 [==============================] - 9s 38ms/step - loss: 491649.3438 - mean_absolute_error: 202.9745 - val_loss: 562014.3125 - val_mean_absolute_error: 189.6207\n",
      "Epoch 30/30\n",
      "229/230 [============================>.] - ETA: 0s - loss: 484450.3125 - mean_absolute_error: 203.1636\n",
      "Epoch 30: val_loss improved from 560476.50000 to 547214.68750, saving model to Weights\\Weights-030--547214.68750.hdf5\n",
      "230/230 [==============================] - 9s 38ms/step - loss: 484056.2500 - mean_absolute_error: 203.1351 - val_loss: 547214.6875 - val_mean_absolute_error: 182.5498\n",
      "--- 0:04:26.291804 minutes ---\n"
     ]
    }
   ],
   "source": [
    "# 4. Treina o modelo utilizando os dados do CSV\n",
    "# Há um código para marcar o tempo de treinamento\n",
    "start_time = time.time()\n",
    "history = model.fit(x_train, y_train, epochs=30, batch_size=1024, callbacks=callbacks_list, validation_data=(x_test, y_test))\n",
    "print(\"--- %s minutes ---\" % datetime.timedelta(seconds=(time.time() - start_time)))"
   ],
   "metadata": {
    "collapsed": false,
    "ExecuteTime": {
     "end_time": "2023-10-18T22:12:14.152639500Z",
     "start_time": "2023-10-18T22:07:47.853263500Z"
    }
   },
   "id": "d6492608f0263837"
  },
  {
   "cell_type": "code",
   "execution_count": 35,
   "outputs": [
    {
     "name": "stdout",
     "output_type": "stream",
     "text": [
      "3617/3617 [==============================] - 5s 1ms/step\n"
     ]
    },
    {
     "data": {
      "text/plain": "array([[ 57.832905],\n       [224.04358 ],\n       [328.50574 ],\n       ...,\n       [506.28415 ],\n       [311.3468  ],\n       [235.97244 ]], dtype=float32)"
     },
     "execution_count": 35,
     "metadata": {},
     "output_type": "execute_result"
    }
   ],
   "source": [
    "# 5. Carregar o melhor modelo para a predição\n",
    "ldModel = keras.saving.load_model('./Weights/best-models/Weights-030--547214.68750.hdf5')\n",
    "prediction_data = ldModel.predict(x_test)\n",
    "prediction_data"
   ],
   "metadata": {
    "collapsed": false,
    "ExecuteTime": {
     "end_time": "2023-10-18T22:21:54.062822200Z",
     "start_time": "2023-10-18T22:21:48.429111300Z"
    }
   },
   "id": "d69dbd4d66703c0e"
  },
  {
   "cell_type": "code",
   "execution_count": 29,
   "outputs": [
    {
     "data": {
      "text/plain": "array([ 66., 198., 374., ..., 349., 269.,  90.])"
     },
     "execution_count": 29,
     "metadata": {},
     "output_type": "execute_result"
    }
   ],
   "source": [
    "y_test"
   ],
   "metadata": {
    "collapsed": false,
    "ExecuteTime": {
     "end_time": "2023-10-18T22:19:50.121281500Z",
     "start_time": "2023-10-18T22:19:50.115149800Z"
    }
   },
   "id": "d1b67bdbadfba095"
  },
  {
   "cell_type": "code",
   "execution_count": 36,
   "outputs": [
    {
     "data": {
      "text/plain": "<Figure size 640x480 with 1 Axes>",
      "image/png": "[encoded data removed]"
     },
     "metadata": {},
     "output_type": "display_data"
    }
   ],
   "source": [
    "# 5.1 Grafico scatter de valores reais x valores predict\n",
    "def plotGraph(y_test, y_pred, name):\n",
    "    if max(y_test) >= max(y_pred):\n",
    "        my_range = int(max(y_test))\n",
    "    else:\n",
    "        my_range = int(max(y_pred))\n",
    "    plt.scatter(range(len(y_test)), y_test, color='blue')\n",
    "    plt.scatter(range(len(y_pred)), y_pred, color='red')\n",
    "    plt.legend(['Teste', 'Predição'], loc='upper left')\n",
    "    plt.title(name)\n",
    "    plt.show()\n",
    "    return\n",
    "\n",
    "plotGraph(y_test, prediction_data, \"Modelo Keras Sequencial NAdam\")"
   ],
   "metadata": {
    "collapsed": false,
    "ExecuteTime": {
     "end_time": "2023-10-18T22:22:11.462447900Z",
     "start_time": "2023-10-18T22:22:10.857890300Z"
    }
   },
   "id": "6b61c63e9793f14f"
  }
 ],
 "metadata": {
  "kernelspec": {
   "display_name": "Python 3",
   "language": "python",
   "name": "python3"
  },
  "language_info": {
   "codemirror_mode": {
    "name": "ipython",
    "version": 2
   },
   "file_extension": ".py",
   "mimetype": "text/x-python",
   "name": "python",
   "nbconvert_exporter": "python",
   "pygments_lexer": "ipython2",
   "version": "2.7.6"
  }
 },
 "nbformat": 4,
 "nbformat_minor": 5
}
